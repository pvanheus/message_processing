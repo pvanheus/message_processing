{
 "cells": [
  {
   "cell_type": "code",
   "execution_count": 9,
   "id": "e86abd70-83bd-4f8a-81d0-28afd7276143",
   "metadata": {},
   "outputs": [],
   "source": [
    "import requests\n",
    "\n",
    "import altair as alt\n",
    "import pandas as pd\n",
    "\n",
    "from sqlalchemy import func\n",
    "from sqlmodel import Session, select\n",
    "from tqdm import tqdm\n",
    "\n",
    "from store_messages import Message, Link, activate_db\n"
   ]
  },
  {
   "cell_type": "code",
   "execution_count": 10,
   "id": "d91f688c-fc52-4860-940f-6752224fde35",
   "metadata": {},
   "outputs": [
    {
     "name": "stdout",
     "output_type": "stream",
     "text": [
      "657577\n"
     ]
    },
    {
     "data": {
      "text/html": [
       "\n",
       "<style>\n",
       "  #altair-viz-b0fb9d458b5242daa26374c08ae2a987.vega-embed {\n",
       "    width: 100%;\n",
       "    display: flex;\n",
       "  }\n",
       "\n",
       "  #altair-viz-b0fb9d458b5242daa26374c08ae2a987.vega-embed details,\n",
       "  #altair-viz-b0fb9d458b5242daa26374c08ae2a987.vega-embed details summary {\n",
       "    position: relative;\n",
       "  }\n",
       "</style>\n",
       "<div id=\"altair-viz-b0fb9d458b5242daa26374c08ae2a987\"></div>\n",
       "<script type=\"text/javascript\">\n",
       "  var VEGA_DEBUG = (typeof VEGA_DEBUG == \"undefined\") ? {} : VEGA_DEBUG;\n",
       "  (function(spec, embedOpt){\n",
       "    let outputDiv = document.currentScript.previousElementSibling;\n",
       "    if (outputDiv.id !== \"altair-viz-b0fb9d458b5242daa26374c08ae2a987\") {\n",
       "      outputDiv = document.getElementById(\"altair-viz-b0fb9d458b5242daa26374c08ae2a987\");\n",
       "    }\n",
       "    const paths = {\n",
       "      \"vega\": \"https://cdn.jsdelivr.net/npm/vega@5?noext\",\n",
       "      \"vega-lib\": \"https://cdn.jsdelivr.net/npm/vega-lib?noext\",\n",
       "      \"vega-lite\": \"https://cdn.jsdelivr.net/npm/vega-lite@5.17.0?noext\",\n",
       "      \"vega-embed\": \"https://cdn.jsdelivr.net/npm/vega-embed@6?noext\",\n",
       "    };\n",
       "\n",
       "    function maybeLoadScript(lib, version) {\n",
       "      var key = `${lib.replace(\"-\", \"\")}_version`;\n",
       "      return (VEGA_DEBUG[key] == version) ?\n",
       "        Promise.resolve(paths[lib]) :\n",
       "        new Promise(function(resolve, reject) {\n",
       "          var s = document.createElement('script');\n",
       "          document.getElementsByTagName(\"head\")[0].appendChild(s);\n",
       "          s.async = true;\n",
       "          s.onload = () => {\n",
       "            VEGA_DEBUG[key] = version;\n",
       "            return resolve(paths[lib]);\n",
       "          };\n",
       "          s.onerror = () => reject(`Error loading script: ${paths[lib]}`);\n",
       "          s.src = paths[lib];\n",
       "        });\n",
       "    }\n",
       "\n",
       "    function showError(err) {\n",
       "      outputDiv.innerHTML = `<div class=\"error\" style=\"color:red;\">${err}</div>`;\n",
       "      throw err;\n",
       "    }\n",
       "\n",
       "    function displayChart(vegaEmbed) {\n",
       "      vegaEmbed(outputDiv, spec, embedOpt)\n",
       "        .catch(err => showError(`Javascript Error: ${err.message}<br>This usually means there's a typo in your chart specification. See the javascript console for the full traceback.`));\n",
       "    }\n",
       "\n",
       "    if(typeof define === \"function\" && define.amd) {\n",
       "      requirejs.config({paths});\n",
       "      require([\"vega-embed\"], displayChart, err => showError(`Error loading script: ${err.message}`));\n",
       "    } else {\n",
       "      maybeLoadScript(\"vega\", \"5\")\n",
       "        .then(() => maybeLoadScript(\"vega-lite\", \"5.17.0\"))\n",
       "        .then(() => maybeLoadScript(\"vega-embed\", \"6\"))\n",
       "        .catch(showError)\n",
       "        .then(() => displayChart(vegaEmbed));\n",
       "    }\n",
       "  })({\"config\": {\"view\": {\"continuousWidth\": 300, \"continuousHeight\": 300}}, \"data\": {\"name\": \"data-682bf082e3553db2941892f6aa721476\"}, \"mark\": {\"type\": \"bar\"}, \"encoding\": {\"x\": {\"field\": \"year_month\", \"type\": \"nominal\"}, \"y\": {\"field\": \"count\", \"type\": \"quantitative\"}}, \"$schema\": \"https://vega.github.io/schema/vega-lite/v5.17.0.json\", \"datasets\": {\"data-682bf082e3553db2941892f6aa721476\": [{\"year_month\": \"202105\", \"year\": 2021, \"month\": 5, \"count\": 2221}, {\"year_month\": \"202106\", \"year\": 2021, \"month\": 6, \"count\": 6457}, {\"year_month\": \"202107\", \"year\": 2021, \"month\": 7, \"count\": 20564}, {\"year_month\": \"202108\", \"year\": 2021, \"month\": 8, \"count\": 26216}, {\"year_month\": \"202109\", \"year\": 2021, \"month\": 9, \"count\": 28009}, {\"year_month\": \"202110\", \"year\": 2021, \"month\": 10, \"count\": 21707}, {\"year_month\": \"202111\", \"year\": 2021, \"month\": 11, \"count\": 12634}, {\"year_month\": \"202112\", \"year\": 2021, \"month\": 12, \"count\": 13293}, {\"year_month\": \"202201\", \"year\": 2022, \"month\": 1, \"count\": 11567}, {\"year_month\": \"202202\", \"year\": 2022, \"month\": 2, \"count\": 101073}, {\"year_month\": \"202203\", \"year\": 2022, \"month\": 3, \"count\": 150989}, {\"year_month\": \"202204\", \"year\": 2022, \"month\": 4, \"count\": 164249}, {\"year_month\": \"202205\", \"year\": 2022, \"month\": 5, \"count\": 76835}, {\"year_month\": \"202206\", \"year\": 2022, \"month\": 6, \"count\": 1635}, {\"year_month\": \"202207\", \"year\": 2022, \"month\": 7, \"count\": 3023}, {\"year_month\": \"202208\", \"year\": 2022, \"month\": 8, \"count\": 1869}, {\"year_month\": \"202209\", \"year\": 2022, \"month\": 9, \"count\": 1328}, {\"year_month\": \"202210\", \"year\": 2022, \"month\": 10, \"count\": 1061}, {\"year_month\": \"202211\", \"year\": 2022, \"month\": 11, \"count\": 745}, {\"year_month\": \"202212\", \"year\": 2022, \"month\": 12, \"count\": 682}, {\"year_month\": \"202301\", \"year\": 2023, \"month\": 1, \"count\": 901}, {\"year_month\": \"202302\", \"year\": 2023, \"month\": 2, \"count\": 935}, {\"year_month\": \"202303\", \"year\": 2023, \"month\": 3, \"count\": 1321}, {\"year_month\": \"202304\", \"year\": 2023, \"month\": 4, \"count\": 1571}, {\"year_month\": \"202305\", \"year\": 2023, \"month\": 5, \"count\": 1232}, {\"year_month\": \"202306\", \"year\": 2023, \"month\": 6, \"count\": 1530}, {\"year_month\": \"202307\", \"year\": 2023, \"month\": 7, \"count\": 743}, {\"year_month\": \"202308\", \"year\": 2023, \"month\": 8, \"count\": 280}, {\"year_month\": \"202309\", \"year\": 2023, \"month\": 9, \"count\": 307}, {\"year_month\": \"202310\", \"year\": 2023, \"month\": 10, \"count\": 305}, {\"year_month\": \"202311\", \"year\": 2023, \"month\": 11, \"count\": 212}, {\"year_month\": \"202312\", \"year\": 2023, \"month\": 12, \"count\": 237}, {\"year_month\": \"202401\", \"year\": 2024, \"month\": 1, \"count\": 244}, {\"year_month\": \"202402\", \"year\": 2024, \"month\": 2, \"count\": 256}, {\"year_month\": \"202403\", \"year\": 2024, \"month\": 3, \"count\": 421}, {\"year_month\": \"202404\", \"year\": 2024, \"month\": 4, \"count\": 522}, {\"year_month\": \"202405\", \"year\": 2024, \"month\": 5, \"count\": 403}]}}, {\"mode\": \"vega-lite\"});\n",
       "</script>"
      ],
      "text/plain": [
       "alt.Chart(...)"
      ]
     },
     "execution_count": 10,
     "metadata": {},
     "output_type": "execute_result"
    }
   ],
   "source": [
    "engine = activate_db('messages.db')\n",
    "with Session(engine) as session:\n",
    "    query = select(func.count(Message.id))\n",
    "    number_of_messages = session.exec(query)\n",
    "    print(next(number_of_messages))\n",
    "\n",
    "    query = select(Message.year, Message.month, func.count(Message.id)).group_by(Message.year, Message.month)\n",
    "    messages_grouped_by_year_month = session.exec(query)\n",
    "    grouped_data = pd.DataFrame(messages_grouped_by_year_month.all(), columns=(\"year\", \"month\",\"count\"))\n",
    "    grouped_data.insert(0, 'year_month', grouped_data.apply(lambda x: f'{x.year}{x.month:02}', axis=1))\n",
    "    freq_plot = alt.Chart(grouped_data).mark_bar().encode(x='year_month', y='count')\n",
    "freq_plot"
   ]
  },
  {
   "cell_type": "code",
   "execution_count": 11,
   "id": "554ecd93-3e49-4f4b-8886-1f62b03f8a55",
   "metadata": {},
   "outputs": [
    {
     "name": "stdout",
     "output_type": "stream",
     "text": [
      "586760 45367\n",
      "['45.ooo', 'abr.to', 'acc.no', 'aka.ms', 'au.int', 'bbc.in', 'bit.do', 'bit.ly', 'boe.es', 'ch7.io', 'chd.tv', 'clc.am', 'cnb.cx', 'cnn.it', 'co.za', 'ctt.ac', 'ctt.ec', 'dld.bz', 'dtv.to', 'e.tv', 'ept.ms', 'etc.as', 'ew.com', 'exc.to', 'fb.me', 'g.co', 'goo.gl', 'gov.uk', 'gov.za', 'https:', 'i.do', 'i.live', 'ibb.co', 'ift.tt', 'ifw.io', 'is.gd', 'it.is', 'ivm.to', 'j.mp', 'jmp.sh', 'kw.be', 'lc.org', 'm.me', 'mol.im', 'mr.pm', 'nj.com', 'nos.nl', 'now.be', 'opr.as', 'osf.io', 'ow.ly', 'qz.com', 'rb.gy', 'rki.de', 'rt.com', 'rtv.be', 'sc.mp', 'str.sg', 't.co', 't.com', 't.ly', 't.me', 'tkp.at', 'to.pin', 'uk.gov', 'un.org', 'up.as', 'us.gov', 'vac.uk', 'vb.me', 'vk.com', 'w-j.co', 'w.app', 'wa.me', 'we.tl', 'wef.ch', 'wp.me', 'x.com', 'xy2.eu', 'yle.fi', '👉t.me']\n"
     ]
    }
   ],
   "source": [
    "link_shorteners = ('aka.ms', 'bit.ly', 'goo.gl', 'j.mp', 't.co', 't.me', 't.ly')\n",
    "with Session(engine) as session:\n",
    "    links = session.exec(select(Link.link))\n",
    "    link_count = 0\n",
    "    link_set = set()\n",
    "    link_prefixes = set()\n",
    "    for link in links:\n",
    "        link_set.add(link)\n",
    "        link = link.replace('https://','').replace('http://', '').lower()\n",
    "        link_parts = link.split('/')\n",
    "        if len(link_parts[0]) < 7:\n",
    "            link_prefixes.add(link_parts[0])\n",
    "        link_count += 1\n",
    "    print(link_count, len(link_set))\n",
    "    print(sorted(link_prefixes))"
   ]
  },
  {
   "cell_type": "code",
   "execution_count": 12,
   "id": "e2f8d272-4f51-4c55-bf49-73ed901498bf",
   "metadata": {},
   "outputs": [
    {
     "name": "stderr",
     "output_type": "stream",
     "text": [
      "100%|██████████████████████████████████████████████████████████████████████████████████████████████████████| 45367/45367 [27:38:26<00:00,  2.19s/it]\n"
     ]
    }
   ],
   "source": [
    "resolved_links: dict[str, str] = {}\n",
    "unresolved_links = set()\n",
    "for link in tqdm(link_set):\n",
    "    original_link = link\n",
    "    if not link.startswith('http'):\n",
    "        link = 'http://' + link\n",
    "    try:\n",
    "        r = requests.head(link, timeout=5)\n",
    "        if r.status_code == 200:\n",
    "            resolved_links[original_link] = r.url\n",
    "        else:\n",
    "            unresolved_links.add(original_link)\n",
    "    except IOError:\n",
    "        unresolved_links.add(original_link)"
   ]
  },
  {
   "cell_type": "code",
   "execution_count": 13,
   "id": "4f7fd5f3-34b7-4f63-a216-cfe83f8cb995",
   "metadata": {},
   "outputs": [
    {
     "data": {
      "text/plain": [
       "24752"
      ]
     },
     "execution_count": 13,
     "metadata": {},
     "output_type": "execute_result"
    }
   ],
   "source": [
    "len(unresolved_links)"
   ]
  },
  {
   "cell_type": "code",
   "execution_count": 17,
   "id": "979bc7ca-8887-4b54-b077-398ace79cf52",
   "metadata": {},
   "outputs": [
    {
     "name": "stdout",
     "output_type": "stream",
     "text": [
      "https://phmpt.org https://phmpt.org/\n",
      "https://www.naturalnews.com/2021-06-02-horrifying-study-reveals-mrna-vaccine-nanoparticles-are-circulated-throughout-the-entire-body-brain-heart-liver-ovaries-testes.html# https://www.naturalnews.com/2021-06-02-horrifying-study-reveals-mrna-vaccine-nanoparticles-are-circulated-throughout-the-entire-body-brain-heart-liver-ovaries-testes.html\n",
      "www.openforall.co.uk http://www.openforall.co.uk/\n",
      "www.miric.co.za http://www.miric.co.za/\n",
      "m.vegas7games.com http://m.vegas7games.com/\n",
      "https://www.unitedaustraliaparty.org.au https://www.unitedaustraliaparty.org.au/\n",
      "corona.tuply.co.za http://corona.tuply.co.za/\n",
      "https://www.naturalnews.com/2022-02-12-one-way-covid-masks-fake-news-cnn.html# https://www.naturalnews.com/2022-02-12-one-way-covid-masks-fake-news-cnn.html\n",
      "https://www.medicinenet.com https://www.medicinenet.com/\n",
      "https://www.facebook.com/thomas.davies.54/posts/4134936786617020?__cft__[0]=AZVR6kUKwnT9CUBBRsMP9zPFhIxXoT25Rk02zS1G0XATmgj08J3tMxb2PTPtNCDYplOEWcN5cSokE2DrtcK5ViqoKW0rIF2X6q6GfDMpUs6r8R1C5_kcwkOJaaEouGNlLmv0s4TeNjXpwXEHO4Uk1aMR&__tn__=%2CO%2CP-R https://www.facebook.com/thomas.davies.54/posts/4134936786617020?__cft__%5B0%5D=AZVR6kUKwnT9CUBBRsMP9zPFhIxXoT25Rk02zS1G0XATmgj08J3tMxb2PTPtNCDYplOEWcN5cSokE2DrtcK5ViqoKW0rIF2X6q6GfDMpUs6r8R1C5_kcwkOJaaEouGNlLmv0s4TeNjXpwXEHO4Uk1aMR&__tn__=%2CO%2CP-R\n",
      "worldwidedemonstration.com http://worldwidedemonstration.com/\n",
      "https://forums.jeff.pro https://forums.jeff.pro/\n",
      "https://www.covid19assembly.org https://www.covid19assembly.org/\n",
      "https://dailyclout.io https://dailyclout.io/\n",
      "https://www.whatdotheyknow.com https://www.whatdotheyknow.com/\n",
      "https://www.theirishchannel.com https://www.theirishchannel.com/\n",
      "www.michaeltellinger.com http://www.michaeltellinger.com/\n",
      "Whale.to http://whale.to/\n",
      "https://hugotalks.com/2022/08/15/5-%f0%9f%91%81-eyes-statue-upsets-cornwall-hugo-talks/ https://hugotalks.com/2022/08/15/5-%F0%9F%91%81-eyes-statue-upsets-cornwall-hugo-talks/\n",
      "Worldmeters.com http://worldmeters.com/\n",
      "https://lineageos.org https://lineageos.org/\n",
      "https://www.adrreports.eu/en/search_subst.html# https://www.adrreports.eu/en/search_subst.html\n",
      "Againstvaccinepassports.com http://againstvaccinepassports.com/\n",
      "https://www.facebook.com/taipingrestaurant/photos/a.657052921015228/4125678497485969/?__cft__[0]=AZV8SlcS2IE_PvAgoDtpm1EYd9q5r_w4DTxymx6ef6P-IPgPSwUsK2ouJulcIHbolb5WnDBwLqKrwtaTbzSBKQBh54cXUC_qA8TwtEQesDH6eaQNuRu2J5cAT33uApgY61DAPQBbYrCZYF3Sd2YABtBw&__tn__=EH-R https://www.facebook.com/taipingrestaurant/photos/a.657052921015228/4125678497485969/?__cft__%5B0%5D=AZV8SlcS2IE_PvAgoDtpm1EYd9q5r_w4DTxymx6ef6P-IPgPSwUsK2ouJulcIHbolb5WnDBwLqKrwtaTbzSBKQBh54cXUC_qA8TwtEQesDH6eaQNuRu2J5cAT33uApgY61DAPQBbYrCZYF3Sd2YABtBw&__tn__=EH-R\n",
      "https://www.mkffs.co.uk https://www.mkffs.co.uk/\n",
      "https://www.naturalnews.com/2021-07-29-fully-vaccinated-medical-worker-both-legs-amputated.html# https://www.naturalnews.com/2021-07-29-fully-vaccinated-medical-worker-both-legs-amputated.html\n",
      "https://web.telegram.org https://web.telegram.org/\n",
      "https://wffa.win https://wffa.win/\n",
      "https://www.naturalnews.com/2021-08-01-bombshell-interviews-john-moore-military-knowledge-of-civilization-ending-global-event.html# https://www.naturalnews.com/2021-08-01-bombshell-interviews-john-moore-military-knowledge-of-civilization-ending-global-event.html\n",
      "https://www.naturalnews.com/2021-06-08-mrna-vaccines-instruct-cells-to-clog-blood.html# https://www.naturalnews.com/2021-06-08-mrna-vaccines-instruct-cells-to-clog-blood.html\n",
      "https://www.naturalnews.com/2021-09-08-science-paper-ivermectin-blocks-viral-replication-covid.html# https://www.naturalnews.com/2021-09-08-science-paper-ivermectin-blocks-viral-replication-covid.html\n",
      "https://www.dwtruthwarrior.com https://www.dwtruthwarrior.com/\n",
      "https://www.naturalnews.com/2021-11-15-the-vaccinated-are-dropping-dead-in-plain-view-as-fauci-and-the-media-admit-total-vax-failure.html# https://www.naturalnews.com/2021-11-15-the-vaccinated-are-dropping-dead-in-plain-view-as-fauci-and-the-media-admit-total-vax-failure.html\n",
      "doctoryourself.com http://doctoryourself.com/\n",
      "https://www.naturalnews.com/2021-09-05-fda-approves-covid-vaccine-that-doesnt-exist.html# https://www.naturalnews.com/2021-09-05-fda-approves-covid-vaccine-that-doesnt-exist.html\n",
      "https://hugotalks.com/2022/08/11/they-are-playing-you-like-a-fiddle-%f0%9f%8e%bb-hugo-talks/ https://hugotalks.com/2022/08/11/they-are-playing-you-like-a-fiddle-%F0%9F%8E%BB-hugo-talks/\n",
      "https://www.slaveprincess.com https://www.slaveprincess.com/\n",
      "https://www.naturalnews.com/2022-02-02-molecule-broccoli-brain-repair-spike-protein-damage.html# https://www.naturalnews.com/2022-02-02-molecule-broccoli-brain-repair-spike-protein-damage.html\n",
      "idea.is http://idea.is/\n",
      "https://www.orwell.city https://www.orwell.city/\n",
      "https://businesstech.co.za/news/business/542186/the-areas-services-and-businesses-that-could-require-mandatory-vaccines-in-south-africa/# https://businesstech.co.za/news/business/542186/the-areas-services-and-businesses-that-could-require-mandatory-vaccines-in-south-africa/\n",
      "https://nanotechnology.news/2021-05-25-covid-vaccines-gmo-magneto-protein-behavior-brain.html# https://nanotechnology.news/2021-05-25-covid-vaccines-gmo-magneto-protein-behavior-brain.html\n",
      "http://againstvaccinepassports.com http://againstvaccinepassports.com/\n",
      "Www.truthbook.social http://www.truthbook.social/\n",
      "https://hugotalks.com/2022/09/22/sausage-toxic-masculinity-%f0%9f%a4%a3-hugo-talks/ https://hugotalks.com/2022/09/22/sausage-toxic-masculinity-%F0%9F%A4%A3-hugo-talks/\n",
      "https://naturalnews.com/2021-07-30-cdc-fda-faked-covid-testing-protocol-by-using-human-cells-mixed-with-common-cold-virus.html# https://naturalnews.com/2021-07-30-cdc-fda-faked-covid-testing-protocol-by-using-human-cells-mixed-with-common-cold-virus.html\n",
      "https://www.google.com/amp/s/mg.co.za/health/2021-01-25-be-aware-of-the-similarities-between-malaria-and-covid-19-experts-warn/%3famp https://www.google.com/amp/s/mg.co.za/health/2021-01-25-be-aware-of-the-similarities-between-malaria-and-covid-19-experts-warn/%3Famp\n",
      "https://www.plymouthherald.co.uk/news/plymouth-news/plymouth-mourns-armada-way-trees-8254495?utm_source=twitter.com&utm_medium=social&utm_campaign=sharebar# https://www.plymouthherald.co.uk/news/plymouth-news/plymouth-mourns-armada-way-trees-8254495?utm_source=twitter.com&utm_medium=social&utm_campaign=sharebar\n",
      "https://sapublicspeaks.co.za https://sapublicspeaks.co.za/\n",
      "https://www.naturalnews.com/2021-05-07-salk-institute-reveals-the-covid-spike-protein-causing-deadly-blood-clots.html# https://www.naturalnews.com/2021-05-07-salk-institute-reveals-the-covid-spike-protein-causing-deadly-blood-clots.html\n",
      "https://www.naturalnews.com/2021-10-02-covid-plandemic-schemed-far-back-911.html# https://www.naturalnews.com/2021-10-02-covid-plandemic-schemed-far-back-911.html\n",
      "https://grapheneos.org https://grapheneos.org/\n",
      "https://www.naturalnews.com/2021-09-13-hospital-administrators-caught-on-camera-scheming-to-fabricate-covid-numbers-scare-the-public.html# https://www.naturalnews.com/2021-09-13-hospital-administrators-caught-on-camera-scheming-to-fabricate-covid-numbers-scare-the-public.html\n",
      "https://guysolodawson.wordpress.com https://guysolodawson.wordpress.com/\n",
      "https://www.naturalnews.com/2021-07-20-science-paper-documents-self-assembled-magnetic-nanosystems-for-cybernetic-biocircuitry-interface.html# https://www.naturalnews.com/2021-07-20-science-paper-documents-self-assembled-magnetic-nanosystems-for-cybernetic-biocircuitry-interface.html\n",
      "https://foodismedicine.com/2021-05-09-is-pine-needle-tea-the-answer-to-covid-vaccine-shedding-suramin-shikimic-acid.html# https://foodismedicine.com/2021-05-09-is-pine-needle-tea-the-answer-to-covid-vaccine-shedding-suramin-shikimic-acid.html\n",
      "https://www.naturalnews.com/2021-09-23-bermuda-increase-in-covid-after-pushing-vaccines-masks.html# https://www.naturalnews.com/2021-09-23-bermuda-increase-in-covid-after-pushing-vaccines-masks.html\n",
      "Truthbook.social http://truthbook.social/\n",
      "https://www.gov.uk/guidance/high-consequence-infectious-diseases-hcid?#status-of-covid-19 https://www.gov.uk/guidance/high-consequence-infectious-diseases-hcid#status-of-covid-19\n",
      "https://hugotalks.com/2021/06/20/look-%f0%9f%91%80-whats-on-uk-govt-website-microchip-transhumanism-hugo-talks-lockdown/ https://hugotalks.com/2021/06/20/look-%F0%9F%91%80-whats-on-uk-govt-website-microchip-transhumanism-hugo-talks-lockdown/\n",
      "https://www.naturalnews.com/2021-08-06-doctors-share-vaccine-injury-horror-stories-devastating.html# https://www.naturalnews.com/2021-08-06-doctors-share-vaccine-injury-horror-stories-devastating.html\n",
      "https://www.naturalnews.com/2022-02-11-big-pharma-will-go-down-like-big-tobacco-as-the-criminal-prosecutions-go-global.html# https://www.naturalnews.com/2022-02-11-big-pharma-will-go-down-like-big-tobacco-as-the-criminal-prosecutions-go-global.html\n",
      "https://hugotalks.com/2022/07/28/tesco-tattoo-qr-clubcard-%f0%9f%a4%ae-hugo-talks/ https://hugotalks.com/2022/07/28/tesco-tattoo-qr-clubcard-%F0%9F%A4%AE-hugo-talks/\n",
      "https://www.naturalnews.com/2021-08-29-why-god-will-not-save-humanity-prepare-for-hell-on-earth.html# https://www.naturalnews.com/2021-08-29-why-god-will-not-save-humanity-prepare-for-hell-on-earth.html\n",
      "etc.as http://etc.as/\n",
      "https://www.pfizer.com https://www.pfizer.com/\n",
      "https://www.naturalnews.com/2021-07-29-cdc-confesses-vaccines-are-failing-the-vaxxed-can-be-super-spreaders.html# https://www.naturalnews.com/2021-07-29-cdc-confesses-vaccines-are-failing-the-vaxxed-can-be-super-spreaders.html\n",
      "https://www.naturalnews.com/2021-09-06-supply-chain-disruptions-getting-worse-engineered-shortages.html# https://www.naturalnews.com/2021-09-06-supply-chain-disruptions-getting-worse-engineered-shortages.html\n",
      "https://www.vaccinedeaths.com/2021-07-01-26-indonesian-doctors-died-coronavirus-received-sinovac.html# https://www.vaccinedeaths.com/2021-07-01-26-indonesian-doctors-died-coronavirus-received-sinovac.html\n",
      "https://vaccines.news/2021-05-31-the-five-phases-of-vaccine-compliance.html# https://vaccines.news/2021-05-31-the-five-phases-of-vaccine-compliance.html\n",
      "Open1.uk http://open1.uk/\n",
      "https://www.drzandrebotha.com https://www.drzandrebotha.com/\n",
      "news.cgtn.com/news/2022-03-18/Xi-Ramaphosa-hold-phone-talks-18vlLtaS3Xq/index.html http://news.cgtn.com/news/2022-03-18/Xi-Ramaphosa-hold-phone-talks-18vlLtaS3Xq/index.html\n",
      "Omny.fm http://omny.fm/\n",
      "bird-group.org http://bird-group.org/\n",
      "and.contact http://and.contact/\n",
      "https://www.naturalnews.com/2023-03-01-80-percent-blood-contaminated-spike-proteins-mrna.html# https://www.naturalnews.com/2023-03-01-80-percent-blood-contaminated-spike-proteins-mrna.html\n",
      "CSunShare.com http://csunshare.com/\n",
      "https://www.notonthebeeb.co.uk https://www.notonthebeeb.co.uk/\n",
      "https://www.naturalnews.com/2021-09-03-governments-to-demand-constant-surveillance-of-your-blood-body-fluids-and-medication-compliance.html# https://www.naturalnews.com/2021-09-03-governments-to-demand-constant-surveillance-of-your-blood-body-fluids-and-medication-compliance.html\n",
      "saverealnews.co.uk http://saverealnews.co.uk/\n",
      "https://coronavirus-yellowcard.mhra.gov.uk https://coronavirus-yellowcard.mhra.gov.uk/\n",
      "https://www.dailymail.co.uk/health/article-7621595/Lab-workers-finger-begins-rot-injects-smallpox-related-virus.html👀🧐 https://www.dailymail.co.uk/health/article-7621595/Lab-workers-finger-begins-rot-injects-smallpox-related-virus.html%F0%9F%91%80%F0%9F%A7%90\n",
      "https://www.naturalnews.com/2021-05-28-deep-state-planning-false-flag-violence-to-blame-anti-vaxxers-and-gun-owners.html# https://www.naturalnews.com/2021-05-28-deep-state-planning-false-flag-violence-to-blame-anti-vaxxers-and-gun-owners.html\n",
      "https://www.naturalnews.com/2021-11-10-genocide-childrens-hospitals-flooded-infant-cardiac-patients.html# https://www.naturalnews.com/2021-11-10-genocide-childrens-hospitals-flooded-infant-cardiac-patients.html\n",
      "https://www.google.com/amp/s/www.irishtimes.com/news/world/europe/romania-halts-most-covid-19-vaccine-imports-as-people-shun-jabs-1.4609115%3fmode=amp https://www.google.com/amp/s/www.irishtimes.com/news/world/europe/romania-halts-most-covid-19-vaccine-imports-as-people-shun-jabs-1.4609115%3Fmode=amp\n",
      "https://www.naturalnews.com/2021-08-29-robert-kennedy-we-need-to-resist-vaccine-tyranny.html# https://www.naturalnews.com/2021-08-29-robert-kennedy-we-need-to-resist-vaccine-tyranny.html\n",
      "www.caringhcws.co.za http://www.caringhcws.co.za/\n",
      "zar.diamond-games.com http://zar.diamond-games.com/\n",
      "aflds.com http://aflds.com/\n",
      "https://voice.gab.com https://voice.gab.com/\n",
      "https://jeroneforcongress.com https://jeroneforcongress.com/\n",
      "http://voxfux.com http://voxfux.com/\n",
      "https://www.naturalnews.com/2021-10-15-a-contagion-of-courage-is-spreading-across-america-pilots-police-firefighters.html# https://www.naturalnews.com/2021-10-15-a-contagion-of-courage-is-spreading-across-america-pilots-police-firefighters.html\n",
      "https://wideawake.clothing https://wideawake.clothing/\n",
      "https://savaers.co.za https://savaers.co.za/\n",
      "coreydigs.com http://coreydigs.com/\n",
      "https://planetlockdownfilm.com https://planetlockdownfilm.com/\n",
      "https://truthsocial.com/🚨🚨🚨 https://truthsocial.com/%F0%9F%9A%A8%F0%9F%9A%A8%F0%9F%9A%A8\n",
      "https://www.naturalnews.com/2021-09-06-study-forever-chemicals-also-present-in-air.html# https://www.naturalnews.com/2021-09-06-study-forever-chemicals-also-present-in-air.html\n",
      "https://capexit.org https://capexit.org/\n"
     ]
    }
   ],
   "source": [
    "count = 0\n",
    "\n",
    "for (original, resolved) in resolved_links.items():\n",
    "    if original == resolved:\n",
    "        continue\n",
    "    print(original, resolved)\n",
    "    count = count + 1\n",
    "    if count > 100:\n",
    "        break"
   ]
  }
 ],
 "metadata": {
  "kernelspec": {
   "display_name": "Python 3 (ipykernel)",
   "language": "python",
   "name": "python3"
  },
  "language_info": {
   "codemirror_mode": {
    "name": "ipython",
    "version": 3
   },
   "file_extension": ".py",
   "mimetype": "text/x-python",
   "name": "python",
   "nbconvert_exporter": "python",
   "pygments_lexer": "ipython3",
   "version": "3.12.3"
  }
 },
 "nbformat": 4,
 "nbformat_minor": 5
}
